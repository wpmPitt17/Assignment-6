{
 "cells": [
  {
   "cell_type": "code",
   "execution_count": 7,
   "metadata": {},
   "outputs": [
    {
     "name": "stdin",
     "output_type": "stream",
     "text": [
      "Please Enter Your Name:  andrew\n"
     ]
    },
    {
     "name": "stdout",
     "output_type": "stream",
     "text": [
      "Great! Hi, andrew!\n"
     ]
    },
    {
     "name": "stdin",
     "output_type": "stream",
     "text": [
      "Please Enter Your Age (In Digits):  65\n"
     ]
    },
    {
     "name": "stdout",
     "output_type": "stream",
     "text": [
      "Let's put that retirement fund to work, andrew!\n"
     ]
    }
   ],
   "source": [
    "name = input(prompt=\"Please Enter Your Name: \")\n",
    "print(\"Great! Hi, \" + name + \"!\")\n",
    "\n",
    "Age = -1\n",
    "passed = False\n",
    "\n",
    "while passed == False:\n",
    "    try:\n",
    "        Age = int(input(\"Please Enter Your Age (In Digits): \"))\n",
    "        passed = True\n",
    "    except:\n",
    "        print(\"Error Occurred Please Try Again\")\n",
    "if Age > 64:\n",
    "    print(\"Let's put that retirement fund to work, \" + name + \"!\")\n",
    "elif Age > 20:\n",
    "    print(\"Alright \" + name + \", Let's go gambling!\")\n",
    "else:\n",
    "    print(\"Sorry but we can't go gambling\")\n",
    "    \n"
   ]
  },
  {
   "cell_type": "code",
   "execution_count": null,
   "metadata": {},
   "outputs": [],
   "source": []
  }
 ],
 "metadata": {
  "kernelspec": {
   "display_name": "Python 3 (ipykernel)",
   "language": "python",
   "name": "python3"
  },
  "language_info": {
   "codemirror_mode": {
    "name": "ipython",
    "version": 3
   },
   "file_extension": ".py",
   "mimetype": "text/x-python",
   "name": "python",
   "nbconvert_exporter": "python",
   "pygments_lexer": "ipython3",
   "version": "3.12.4"
  }
 },
 "nbformat": 4,
 "nbformat_minor": 4
}
